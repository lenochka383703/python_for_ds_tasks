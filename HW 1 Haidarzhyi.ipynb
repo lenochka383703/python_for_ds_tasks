{
 "cells": [
  {
   "cell_type": "markdown",
   "id": "981b8425",
   "metadata": {
    "pycharm": {
     "name": "#%% md\n"
    }
   },
   "source": [
    "# Домашнє завдання до теми \"Python Basics\"\n",
    "В цьому ДЗ важливою умовою виконання завдань є те, що ми не імпортуємо жодних бібліотек, а робимо все на чистому Python, використовуючи лише базовий функціонал. Це необхідно аби відпрацювати роботу з базовими типами даних. А використовувати бібліотеки ми ще навчимось далі :)"
   ]
  },
  {
   "cell_type": "markdown",
   "id": "cb32dde8",
   "metadata": {
    "pycharm": {
     "name": "#%% md\n"
    }
   },
   "source": [
    "## Робота з числами та арифметичними операторами"
   ]
  },
  {
   "cell_type": "markdown",
   "id": "ee435a04",
   "metadata": {
    "ExecuteTime": {
     "end_time": "2023-05-26T10:30:07.427381Z",
     "start_time": "2023-05-26T10:30:07.416247Z"
    }
   },
   "source": [
    "1.Створіть змінну, яка буде зберігати кількість яблук. І надайте їй значення 5. Виведіть значення змінної на екран."
   ]
  },
  {
   "cell_type": "code",
   "execution_count": 1,
   "id": "bf21c9b7",
   "metadata": {
    "ExecuteTime": {
     "end_time": "2023-06-04T12:01:27.963032Z",
     "start_time": "2023-06-04T12:01:27.945117Z"
    }
   },
   "outputs": [
    {
     "data": {
      "text/plain": [
       "5"
      ]
     },
     "execution_count": 1,
     "metadata": {},
     "output_type": "execute_result"
    }
   ],
   "source": [
    "app_count = 5\n",
    "app_count"
   ]
  },
  {
   "cell_type": "markdown",
   "id": "4287811a",
   "metadata": {},
   "source": [
    "2.Виведіть тип змінної, створеної в завданні (1)."
   ]
  },
  {
   "cell_type": "code",
   "execution_count": 2,
   "id": "79dd135e",
   "metadata": {
    "ExecuteTime": {
     "end_time": "2023-06-04T12:01:32.548061Z",
     "start_time": "2023-06-04T12:01:32.537089Z"
    }
   },
   "outputs": [
    {
     "data": {
      "text/plain": [
       "int"
      ]
     },
     "execution_count": 2,
     "metadata": {},
     "output_type": "execute_result"
    }
   ],
   "source": [
    "type(app_count\n",
    "    )"
   ]
  },
  {
   "cell_type": "markdown",
   "id": "cef84a82",
   "metadata": {},
   "source": [
    "3.Додайте до значення змінної, створеної в завданні (1) число `12` і виведіть результат на екран з допомогою команди `print()`."
   ]
  },
  {
   "cell_type": "code",
   "execution_count": 3,
   "id": "6f08f9aa",
   "metadata": {
    "ExecuteTime": {
     "end_time": "2023-06-04T12:01:36.905824Z",
     "start_time": "2023-06-04T12:01:36.896845Z"
    }
   },
   "outputs": [
    {
     "name": "stdout",
     "output_type": "stream",
     "text": [
      "17\n"
     ]
    }
   ],
   "source": [
    "app_count += 12\n",
    "print (app_count)"
   ]
  },
  {
   "cell_type": "markdown",
   "id": "3d3533d3",
   "metadata": {
    "pycharm": {
     "name": "#%% md\n"
    }
   },
   "source": [
    "4.Створіть змінні `a`, `b`, `c` та `d`, задайте їм значення відповідно 101, 210, 111, 402, та обчисліть з допомогою Python наступний вираз:  $$ \\frac{(a+b) * c}{d} $$\n",
    "\n",
    "**Важливо**: тут ми маємо обчислити значення саме з використанням змінних, а не просто чисел, як би ми робили у калькуряторі. Змінні потрібні аби за бажання ми могли змінити їх значення та не переписувати код обчислення виразу, бо він буде працювати для різних значень змінних."
   ]
  },
  {
   "cell_type": "code",
   "execution_count": 4,
   "id": "7072576a",
   "metadata": {
    "ExecuteTime": {
     "end_time": "2023-06-04T12:01:40.052442Z",
     "start_time": "2023-06-04T12:01:40.038479Z"
    },
    "pycharm": {
     "name": "#%%\n"
    }
   },
   "outputs": [
    {
     "data": {
      "text/plain": [
       "85.8731343283582"
      ]
     },
     "execution_count": 4,
     "metadata": {},
     "output_type": "execute_result"
    }
   ],
   "source": [
    "a = 101\n",
    "b = 210\n",
    "c = 111\n",
    "d = 402\n",
    "\n",
    "result = (a+b)*c/d\n",
    "result"
   ]
  },
  {
   "cell_type": "markdown",
   "id": "fdcc09af",
   "metadata": {
    "pycharm": {
     "name": "#%% md\n"
    }
   },
   "source": [
    "Очікувана відповідь: 85.8731343283582"
   ]
  },
  {
   "cell_type": "markdown",
   "id": "f370da46",
   "metadata": {},
   "source": [
    "5.Якою буде остача від ділення числа 11283 на 89? Обчисліть з допомогою Python."
   ]
  },
  {
   "cell_type": "code",
   "execution_count": 5,
   "id": "812afaac",
   "metadata": {
    "ExecuteTime": {
     "end_time": "2023-06-04T12:01:43.057719Z",
     "start_time": "2023-06-04T12:01:43.048780Z"
    }
   },
   "outputs": [
    {
     "data": {
      "text/plain": [
       "69"
      ]
     },
     "execution_count": 5,
     "metadata": {},
     "output_type": "execute_result"
    }
   ],
   "source": [
    "11283 % 89"
   ]
  },
  {
   "cell_type": "markdown",
   "id": "ad6b767f",
   "metadata": {},
   "source": [
    "6.Скільки цілих разів поміститься число 89 в 11283? (Або що те саме: який буде результат цілочисельного ділення 11283 на 89?)"
   ]
  },
  {
   "cell_type": "code",
   "execution_count": 6,
   "id": "8e9f716f",
   "metadata": {
    "ExecuteTime": {
     "end_time": "2023-06-04T12:01:45.161887Z",
     "start_time": "2023-06-04T12:01:45.151920Z"
    }
   },
   "outputs": [
    {
     "data": {
      "text/plain": [
       "126"
      ]
     },
     "execution_count": 6,
     "metadata": {},
     "output_type": "execute_result"
    }
   ],
   "source": [
    "11283//89"
   ]
  },
  {
   "cell_type": "markdown",
   "id": "f4d08845",
   "metadata": {
    "ExecuteTime": {
     "end_time": "2022-10-15T22:38:58.278123Z",
     "start_time": "2022-10-15T22:38:58.274895Z"
    },
    "pycharm": {
     "name": "#%% md\n"
    }
   },
   "source": [
    "# Робота з рядками"
   ]
  },
  {
   "cell_type": "markdown",
   "id": "85cf0286",
   "metadata": {
    "pycharm": {
     "name": "#%% md\n"
    }
   },
   "source": [
    "7.Запишіть у змінну `name` ваше імʼя."
   ]
  },
  {
   "cell_type": "code",
   "execution_count": 7,
   "id": "3598d91f",
   "metadata": {
    "ExecuteTime": {
     "end_time": "2023-06-04T12:01:47.382651Z",
     "start_time": "2023-06-04T12:01:47.376666Z"
    },
    "pycharm": {
     "name": "#%%\n"
    }
   },
   "outputs": [],
   "source": [
    "name = 'Olena'"
   ]
  },
  {
   "cell_type": "markdown",
   "id": "a2740291",
   "metadata": {
    "pycharm": {
     "name": "#%% md\n"
    }
   },
   "source": [
    "8.Запишіть у змінну `surname` ваше прізвище."
   ]
  },
  {
   "cell_type": "code",
   "execution_count": 8,
   "id": "1d51a6d4",
   "metadata": {
    "ExecuteTime": {
     "end_time": "2023-06-04T12:01:49.695824Z",
     "start_time": "2023-06-04T12:01:49.688880Z"
    },
    "pycharm": {
     "name": "#%%\n"
    }
   },
   "outputs": [],
   "source": [
    "surname = 'Haidarzhyi'"
   ]
  },
  {
   "cell_type": "markdown",
   "id": "ba6635d0",
   "metadata": {
    "pycharm": {
     "name": "#%% md\n"
    }
   },
   "source": [
    "9.Сконкатенуйте імʼя та прізвище в одну фразу через пробіл. Запишіть результат у нову змінну `name_surname` та виведіть результат на екран.  "
   ]
  },
  {
   "cell_type": "code",
   "execution_count": 9,
   "id": "285a452d",
   "metadata": {
    "ExecuteTime": {
     "end_time": "2023-06-04T12:01:51.610434Z",
     "start_time": "2023-06-04T12:01:51.602457Z"
    },
    "pycharm": {
     "name": "#%%\n"
    }
   },
   "outputs": [
    {
     "data": {
      "text/plain": [
       "'Olena Haidarzhyi'"
      ]
     },
     "execution_count": 9,
     "metadata": {},
     "output_type": "execute_result"
    }
   ],
   "source": [
    "name_surname = name + ' ' + surname\n",
    "name_surname"
   ]
  },
  {
   "cell_type": "markdown",
   "id": "c809583b",
   "metadata": {
    "pycharm": {
     "name": "#%% md\n"
    }
   },
   "source": [
    "Очікувана відповідь (тільки з вашими даними): 'Hanna Pylieva' "
   ]
  },
  {
   "cell_type": "markdown",
   "id": "739e33b8",
   "metadata": {
    "pycharm": {
     "name": "#%% md\n"
    }
   },
   "source": [
    "10.Зробіть усі літери змінної `name_surname` заглавними використовуючи метод рядків в Python:"
   ]
  },
  {
   "cell_type": "code",
   "execution_count": 10,
   "id": "f4425de3",
   "metadata": {
    "ExecuteTime": {
     "end_time": "2023-06-04T12:01:53.689524Z",
     "start_time": "2023-06-04T12:01:53.679547Z"
    },
    "pycharm": {
     "name": "#%%\n"
    }
   },
   "outputs": [
    {
     "data": {
      "text/plain": [
       "'OLENA HAIDARZHYI'"
      ]
     },
     "execution_count": 10,
     "metadata": {},
     "output_type": "execute_result"
    }
   ],
   "source": [
    "name_surname.upper()"
   ]
  },
  {
   "cell_type": "markdown",
   "id": "db3001ae",
   "metadata": {
    "pycharm": {
     "name": "#%% md\n"
    }
   },
   "source": [
    "Очікувана відповідь (тільки з вашими даними): 'HANNA PYLIEVA'"
   ]
  },
  {
   "cell_type": "markdown",
   "id": "e3e5f9d8",
   "metadata": {
    "pycharm": {
     "name": "#%% md\n"
    }
   },
   "source": [
    "11.Виведіть третю літеру вашого `name_surname`. Тут уважно, треба саме третя літера. Згадайте, з якого значення починається індексування значень в Python."
   ]
  },
  {
   "cell_type": "code",
   "execution_count": 11,
   "id": "3a06d2a6",
   "metadata": {
    "ExecuteTime": {
     "end_time": "2023-06-04T12:01:56.883141Z",
     "start_time": "2023-06-04T12:01:56.875195Z"
    },
    "pycharm": {
     "name": "#%%\n"
    }
   },
   "outputs": [
    {
     "name": "stdout",
     "output_type": "stream",
     "text": [
      "e\n"
     ]
    }
   ],
   "source": [
    "print(name_surname[2])"
   ]
  },
  {
   "cell_type": "markdown",
   "id": "5e95d6ea",
   "metadata": {
    "pycharm": {
     "name": "#%% md\n"
    }
   },
   "source": [
    "Очікувана відповідь (тільки з вашими даними): 'n'"
   ]
  },
  {
   "cell_type": "markdown",
   "id": "c83cdab7",
   "metadata": {
    "pycharm": {
     "name": "#%% md\n"
    }
   },
   "source": [
    "12.Виведіть першу та останню літеру вашого прізвища."
   ]
  },
  {
   "cell_type": "code",
   "execution_count": 12,
   "id": "bcfa2c8e",
   "metadata": {
    "ExecuteTime": {
     "end_time": "2023-06-04T12:02:00.092027Z",
     "start_time": "2023-06-04T12:02:00.084048Z"
    },
    "pycharm": {
     "name": "#%%\n"
    }
   },
   "outputs": [
    {
     "name": "stdout",
     "output_type": "stream",
     "text": [
      "H i\n"
     ]
    }
   ],
   "source": [
    "print(surname[0], surname[-1])"
   ]
  },
  {
   "cell_type": "markdown",
   "id": "157b7de2",
   "metadata": {
    "pycharm": {
     "name": "#%% md\n"
    }
   },
   "source": [
    "Очікувана відповідь (тільки з вашими даними): ('P', 'a')"
   ]
  },
  {
   "cell_type": "markdown",
   "id": "475879f7",
   "metadata": {
    "pycharm": {
     "name": "#%% md\n"
    }
   },
   "source": [
    "13.Виведіть довжину вашого прізвища."
   ]
  },
  {
   "cell_type": "code",
   "execution_count": 13,
   "id": "80d89dd0",
   "metadata": {
    "ExecuteTime": {
     "end_time": "2023-06-04T12:02:02.381070Z",
     "start_time": "2023-06-04T12:02:02.370099Z"
    },
    "pycharm": {
     "name": "#%%\n"
    }
   },
   "outputs": [
    {
     "data": {
      "text/plain": [
       "10"
      ]
     },
     "execution_count": 13,
     "metadata": {},
     "output_type": "execute_result"
    }
   ],
   "source": [
    "len(surname)"
   ]
  },
  {
   "cell_type": "markdown",
   "id": "00ee69b4",
   "metadata": {
    "pycharm": {
     "name": "#%% md\n"
    }
   },
   "source": [
    "Очікувана відповідь (тільки з вашими даними): 7"
   ]
  },
  {
   "cell_type": "markdown",
   "id": "4efa1090",
   "metadata": {
    "pycharm": {
     "name": "#%% md\n"
    }
   },
   "source": [
    "14.Виведіть кількість літер `a` у столиці Мадагаскару `Antananarivo`. Важливо врахувати всі літери, як великі, так і маленькі."
   ]
  },
  {
   "cell_type": "code",
   "execution_count": 14,
   "id": "9f6f6f70",
   "metadata": {
    "ExecuteTime": {
     "end_time": "2023-06-04T12:02:05.592248Z",
     "start_time": "2023-06-04T12:02:05.583271Z"
    },
    "pycharm": {
     "name": "#%%\n"
    }
   },
   "outputs": [
    {
     "name": "stdout",
     "output_type": "stream",
     "text": [
      "4\n"
     ]
    }
   ],
   "source": [
    "word = 'Antananarivo'\n",
    "print(word.lower().count('a'))"
   ]
  },
  {
   "cell_type": "markdown",
   "id": "227834c8",
   "metadata": {
    "pycharm": {
     "name": "#%% md\n"
    }
   },
   "source": [
    "Очікувана відповідь: 4"
   ]
  },
  {
   "cell_type": "markdown",
   "id": "820b994a",
   "metadata": {
    "ExecuteTime": {
     "end_time": "2023-05-28T22:53:18.824389Z",
     "start_time": "2023-05-28T22:53:18.816117Z"
    }
   },
   "source": [
    "15.Створіть рядок `my_string` зі значенням: \"The quick brown fox jumps over the lazy dog!!!\".   \n",
    "Перевірте, чи починається рядок `my_string` з \"The\" і чи закінчується він \"dog!\". Виведіть результати на екран."
   ]
  },
  {
   "cell_type": "code",
   "execution_count": 15,
   "id": "e55f63f7",
   "metadata": {
    "ExecuteTime": {
     "end_time": "2023-06-04T12:02:08.205643Z",
     "start_time": "2023-06-04T12:02:08.198661Z"
    }
   },
   "outputs": [
    {
     "name": "stdout",
     "output_type": "stream",
     "text": [
      "True\n",
      "False\n"
     ]
    }
   ],
   "source": [
    "my_string = \"The quick brown fox jumps over the lazy dog!!!\"\n",
    "print(my_string.startswith(\"The\"))\n",
    "print(my_string.endswith(\"dog!\"))"
   ]
  },
  {
   "cell_type": "markdown",
   "id": "1a54327d",
   "metadata": {},
   "source": [
    "16.Розділіть рядок `my_string` на список слів, а потім з'єднайте всі слова через нижнє підкреслювання. Виведіть результат на екран."
   ]
  },
  {
   "cell_type": "code",
   "execution_count": 16,
   "id": "e4a91725",
   "metadata": {
    "ExecuteTime": {
     "end_time": "2023-06-04T12:02:12.085858Z",
     "start_time": "2023-06-04T12:02:12.075884Z"
    }
   },
   "outputs": [
    {
     "data": {
      "text/plain": [
       "'The_quick_brown_fox_jumps_over_the_lazy_dog!!!'"
      ]
     },
     "execution_count": 16,
     "metadata": {},
     "output_type": "execute_result"
    }
   ],
   "source": [
    "words = my_string.split()\n",
    "new_string = '_'.join(words)\n",
    "new_string"
   ]
  },
  {
   "cell_type": "markdown",
   "id": "ff5aad44",
   "metadata": {},
   "source": [
    "Очікуваний результат: `The_quick_brown_fox_jumps_over_the_lazy_dog!!!`"
   ]
  },
  {
   "cell_type": "markdown",
   "id": "a149a94f",
   "metadata": {
    "pycharm": {
     "name": "#%% md\n"
    }
   },
   "source": [
    "# Робота зі колекціями"
   ]
  },
  {
   "cell_type": "markdown",
   "id": "e0d875af",
   "metadata": {
    "pycharm": {
     "name": "#%% md\n"
    }
   },
   "source": [
    "У нас є наступний список:"
   ]
  },
  {
   "cell_type": "code",
   "execution_count": 17,
   "id": "a00f02a4",
   "metadata": {
    "ExecuteTime": {
     "end_time": "2023-06-04T12:02:16.439958Z",
     "start_time": "2023-06-04T12:02:16.430983Z"
    },
    "pycharm": {
     "name": "#%%\n"
    }
   },
   "outputs": [],
   "source": [
    "my_list = [\n",
    "    78, 12, 14, 27, 47, 28, 51, 46, 94, 37, 42, 20, 52, 33, 11, 11, 51,\n",
    "    20, 81, 54, 86, 51, 38, 42, 49, 99, 76, 17,  9, 23, 97, 29, 29, 63,\n",
    "    40, 11, 31, 76, 15, 21, 29, 75, 35,  2, 10, 71, 17, 10, 13,  7, 44,\n",
    "    12, 19, 61, 13, 25, 62, 46, 10, 44, 75, 57, 20, 57,  3, 44, 16, 28,\n",
    "    79, 57, 62, 70, 95,  8, 47, 82, 80, 45, 36, 44, 79, 95, 73, 42, 29,\n",
    "    83, 80, 66, 56,  8, 73,  5, 99, 65, 65, 98, 17, 36, 16, 60\n",
    "]"
   ]
  },
  {
   "cell_type": "markdown",
   "id": "939df814",
   "metadata": {
    "pycharm": {
     "name": "#%% md\n"
    }
   },
   "source": [
    "Будемо з ним працювати в наступних завданнях."
   ]
  },
  {
   "cell_type": "markdown",
   "id": "ca8a44ad",
   "metadata": {
    "pycharm": {
     "name": "#%% md\n"
    }
   },
   "source": [
    "17.Виведіть 5 перших елементів списку `my_list` з допомогою слайсингу."
   ]
  },
  {
   "cell_type": "code",
   "execution_count": 18,
   "id": "bef06042",
   "metadata": {
    "ExecuteTime": {
     "end_time": "2023-06-04T12:02:19.274906Z",
     "start_time": "2023-06-04T12:02:19.264927Z"
    },
    "pycharm": {
     "name": "#%%\n"
    }
   },
   "outputs": [
    {
     "data": {
      "text/plain": [
       "[78, 12, 14, 27, 47]"
      ]
     },
     "execution_count": 18,
     "metadata": {},
     "output_type": "execute_result"
    }
   ],
   "source": [
    "my_list[:5]"
   ]
  },
  {
   "cell_type": "markdown",
   "id": "ee06fb5f",
   "metadata": {
    "pycharm": {
     "name": "#%% md\n"
    }
   },
   "source": [
    "Очікувана відповідь: [78, 12, 14, 27, 47]"
   ]
  },
  {
   "cell_type": "markdown",
   "id": "2fa4c1a2",
   "metadata": {
    "ExecuteTime": {
     "end_time": "2023-05-28T22:46:26.546845Z",
     "start_time": "2023-05-28T22:46:26.540558Z"
    }
   },
   "source": [
    "18.Виведіть 3 останніх елементи списку `my_list` з допомогою слайсингу."
   ]
  },
  {
   "cell_type": "code",
   "execution_count": 19,
   "id": "0d27ae28",
   "metadata": {
    "ExecuteTime": {
     "end_time": "2023-06-04T12:02:21.658581Z",
     "start_time": "2023-06-04T12:02:21.648610Z"
    }
   },
   "outputs": [
    {
     "data": {
      "text/plain": [
       "[36, 16, 60]"
      ]
     },
     "execution_count": 19,
     "metadata": {},
     "output_type": "execute_result"
    }
   ],
   "source": [
    "my_list[-3:]"
   ]
  },
  {
   "cell_type": "markdown",
   "id": "40c77ad6",
   "metadata": {
    "pycharm": {
     "name": "#%% md\n"
    }
   },
   "source": [
    "19.Виведіть максимальний і мінімальний елемент у списку. Сформуйте відповідь у наступному форматі\n",
    "```\n",
    "Max element  <число>\n",
    "Max element  <число>\n",
    "```"
   ]
  },
  {
   "cell_type": "code",
   "execution_count": 20,
   "id": "00480730",
   "metadata": {
    "ExecuteTime": {
     "end_time": "2023-06-04T12:02:24.416358Z",
     "start_time": "2023-06-04T12:02:24.408379Z"
    },
    "pycharm": {
     "name": "#%%\n"
    }
   },
   "outputs": [
    {
     "name": "stdout",
     "output_type": "stream",
     "text": [
      "Max element 99\n",
      "Min element 2\n"
     ]
    }
   ],
   "source": [
    "print('Max element', max(my_list))\n",
    "print('Min element', min(my_list))"
   ]
  },
  {
   "cell_type": "markdown",
   "id": "34e8920b",
   "metadata": {
    "pycharm": {
     "name": "#%% md\n"
    }
   },
   "source": [
    "Очікувана відповідь: \n",
    "\n",
    "```\n",
    "Max element  99\n",
    "Max element  2\n",
    "```"
   ]
  },
  {
   "cell_type": "markdown",
   "id": "af4b17ac",
   "metadata": {
    "pycharm": {
     "name": "#%% md\n"
    }
   },
   "source": [
    "20.Створіть новий список `my_list_2`, який містить кожен 11-й елемент списку `my_list`. Виведіть `my_list_2` на екран.  \n",
    "Памʼятаємо, що перший з \"кожного одинадцятого улементу\" списку має індекс 10.\n",
    "Це завдання можна виконати як з використанням циклів, так і з використанням слайсингу."
   ]
  },
  {
   "cell_type": "code",
   "execution_count": 21,
   "id": "1866457d",
   "metadata": {
    "ExecuteTime": {
     "end_time": "2023-06-04T12:02:27.445383Z",
     "start_time": "2023-06-04T12:02:27.437402Z"
    },
    "pycharm": {
     "name": "#%%\n"
    }
   },
   "outputs": [
    {
     "name": "stdout",
     "output_type": "stream",
     "text": [
      "[42, 51, 29, 2, 13, 44, 80, 66, 16]\n"
     ]
    }
   ],
   "source": [
    "my_list_2 = my_list[10::11]\n",
    "print(my_list_2)"
   ]
  },
  {
   "cell_type": "markdown",
   "id": "fe8ad86d",
   "metadata": {
    "ExecuteTime": {
     "end_time": "2023-01-20T20:10:37.303981Z",
     "start_time": "2023-01-20T20:10:37.275706Z"
    },
    "pycharm": {
     "name": "#%%\n"
    }
   },
   "source": [
    "Очікуваний результат: `[42, 51, 29, 2, 13, 44, 80, 66, 16]`"
   ]
  },
  {
   "cell_type": "markdown",
   "id": "9ac99f63",
   "metadata": {},
   "source": [
    "## ВИ - МОЛОДЕЦЬ! ЗРОБИЛИ 20 ЗАВДАНЬ!\n",
    "Далі завдання будуть трохи складніше. Деколи в завданнях треба буде написати цикл або list comprehension. Але я впевнена, що у Вас все вийде!"
   ]
  },
  {
   "cell_type": "markdown",
   "id": "2ece0191",
   "metadata": {
    "pycharm": {
     "name": "#%% md\n"
    }
   },
   "source": [
    "21.Створіть новий список `my_list_2_squared`, де кожен елемент списку `my_list_2` є піднесеним до степіня 2. "
   ]
  },
  {
   "cell_type": "code",
   "execution_count": 22,
   "id": "ae51db06",
   "metadata": {
    "ExecuteTime": {
     "end_time": "2023-06-04T12:02:32.013946Z",
     "start_time": "2023-06-04T12:02:32.004971Z"
    }
   },
   "outputs": [
    {
     "name": "stdout",
     "output_type": "stream",
     "text": [
      "[1764, 2601, 841, 4, 169, 1936, 6400, 4356, 256]\n"
     ]
    }
   ],
   "source": [
    "my_list_2_squared = []\n",
    "for item in my_list_2:\n",
    "    my_list_2_squared.append(item**2)\n",
    "print(my_list_2_squared)"
   ]
  },
  {
   "cell_type": "markdown",
   "id": "3a96b9c8",
   "metadata": {
    "pycharm": {
     "name": "#%% md\n"
    }
   },
   "source": [
    "Очікуваний результат: `[1764, 2601, 841, 4, 169, 1936, 6400, 4356, 256]`"
   ]
  },
  {
   "cell_type": "markdown",
   "id": "15ac760f",
   "metadata": {
    "pycharm": {
     "name": "#%% md\n"
    }
   },
   "source": [
    "22.Знайдіть суму всіх елементів списку `my_list_2` та виведіть її на екран."
   ]
  },
  {
   "cell_type": "code",
   "execution_count": 23,
   "id": "ea51cb86",
   "metadata": {
    "ExecuteTime": {
     "end_time": "2023-06-04T12:02:37.053984Z",
     "start_time": "2023-06-04T12:02:37.046002Z"
    },
    "pycharm": {
     "name": "#%%\n"
    }
   },
   "outputs": [
    {
     "name": "stdout",
     "output_type": "stream",
     "text": [
      "343\n"
     ]
    }
   ],
   "source": [
    "print(sum(my_list_2))\n",
    "    "
   ]
  },
  {
   "cell_type": "markdown",
   "id": "c7dd2c1d",
   "metadata": {
    "pycharm": {
     "name": "#%% md\n"
    }
   },
   "source": [
    "23.Знайдіть середнє значення елементів списку `my_list_2`, збережіть результат у змінну `my_list_2_mean`. Виведіть новостворену змінну та ії тип на екран.\n",
    "**Підказка**: середнє значення - це сума елементів поділена на їх кількість. А кількість елементів в списку - це його довжина."
   ]
  },
  {
   "cell_type": "code",
   "execution_count": 24,
   "id": "37187461",
   "metadata": {
    "ExecuteTime": {
     "end_time": "2023-06-04T12:02:42.507553Z",
     "start_time": "2023-06-04T12:02:42.499580Z"
    },
    "pycharm": {
     "name": "#%%\n"
    }
   },
   "outputs": [
    {
     "name": "stdout",
     "output_type": "stream",
     "text": [
      "38.111111111111114 <class 'float'>\n"
     ]
    }
   ],
   "source": [
    "my_list_2_mean = sum(my_list_2)/len(my_list_2)\n",
    "print(my_list_2_mean, type(my_list_2_mean))"
   ]
  },
  {
   "cell_type": "markdown",
   "id": "5c55fd51",
   "metadata": {
    "pycharm": {
     "name": "#%% md\n"
    }
   },
   "source": [
    "24.Створіть новий список `my_list_2_gt_mean`, за наступним правилом: \"якщо цей елемент спиcку `my_list_2` є більше за `my_list_2_mean`, то запишемо 1, інакше 0. Виведіть новий список на екран."
   ]
  },
  {
   "cell_type": "code",
   "execution_count": 25,
   "id": "d366f355",
   "metadata": {
    "ExecuteTime": {
     "end_time": "2023-06-04T12:02:50.654657Z",
     "start_time": "2023-06-04T12:02:50.645680Z"
    },
    "pycharm": {
     "name": "#%%\n"
    }
   },
   "outputs": [
    {
     "name": "stdout",
     "output_type": "stream",
     "text": [
      "[1, 1, 0, 0, 0, 1, 1, 1, 0]\n"
     ]
    }
   ],
   "source": [
    "my_list_2_gt_mean = [1 if item > my_list_2_mean else 0 for item in my_list_2]\n",
    "print(my_list_2_gt_mean)"
   ]
  },
  {
   "cell_type": "markdown",
   "id": "3d255a82",
   "metadata": {},
   "source": [
    "Очікуваний результат: `[1, 1, 0, 0, 0, 1, 1, 1, 0]`"
   ]
  },
  {
   "cell_type": "markdown",
   "id": "a2c9f81e",
   "metadata": {
    "pycharm": {
     "name": "#%% md\n"
    }
   },
   "source": [
    "25.Чи є в списку `my_list` елементи, які повторюються? Перевірте це програмно і з допомогою інструкцій `if ... else` виведіть на екран відповідь \"Так, є елементи, які повторюються\", або \"Ні, всі елементи унікальні\".\n",
    "Важливо це зробити без використання імпортів будь-яких бібліотек, на чистому Python так би мовити."
   ]
  },
  {
   "cell_type": "code",
   "execution_count": 26,
   "id": "c866cb5a",
   "metadata": {
    "ExecuteTime": {
     "end_time": "2023-06-04T12:02:53.269494Z",
     "start_time": "2023-06-04T12:02:53.260517Z"
    },
    "pycharm": {
     "name": "#%%\n"
    }
   },
   "outputs": [
    {
     "name": "stdout",
     "output_type": "stream",
     "text": [
      "Так, є елементи, які повторюються\n"
     ]
    }
   ],
   "source": [
    "unique_el = set(my_list)\n",
    "if len(my_list) != len(unique_el):\n",
    "    print(\"Так, є елементи, які повторюються\")\n",
    "else:\n",
    "    print (\"Ні, всі елементи унікальні\")"
   ]
  },
  {
   "cell_type": "markdown",
   "id": "509fdec6",
   "metadata": {
    "pycharm": {
     "name": "#%% md\n"
    }
   },
   "source": [
    "26.Для кожного унікального елементу списку `my_list` знайдіть, скільки разів він повторюється, та запишіть сукупний результат для всіх елементів (тобто скільки разів повторюється кожен елемент) у змінну `n_repeats`. Виведіть `n_repeats` на екран. \n",
    "\n",
    "**Підказка**: `n_repeats` матиме тип \"словник\". Порядок ключів в словнику не має значення! Тобто ключі в словнику не обовʼязково мають бути в тому ж порядку, як наведено в прикладі результату. Але кількості зустрічань для кожного елемента мають співпадати з наведеними. "
   ]
  },
  {
   "cell_type": "code",
   "execution_count": 27,
   "id": "50608603",
   "metadata": {
    "ExecuteTime": {
     "end_time": "2023-06-04T12:02:55.898561Z",
     "start_time": "2023-06-04T12:02:55.889587Z"
    },
    "pycharm": {
     "name": "#%%\n"
    }
   },
   "outputs": [
    {
     "name": "stdout",
     "output_type": "stream",
     "text": [
      "{2: 1, 3: 1, 5: 1, 7: 1, 8: 2, 9: 1, 10: 3, 11: 3, 12: 2, 13: 2, 14: 1, 15: 1, 16: 2, 17: 3, 19: 1, 20: 3, 21: 1, 23: 1, 25: 1, 27: 1, 28: 2, 29: 4, 31: 1, 33: 1, 35: 1, 36: 2, 37: 1, 38: 1, 40: 1, 42: 3, 44: 4, 45: 1, 46: 2, 47: 2, 49: 1, 51: 3, 52: 1, 54: 1, 56: 1, 57: 3, 60: 1, 61: 1, 62: 2, 63: 1, 65: 2, 66: 1, 70: 1, 71: 1, 73: 2, 75: 2, 76: 2, 78: 1, 79: 2, 80: 2, 81: 1, 82: 1, 83: 1, 86: 1, 94: 1, 95: 2, 97: 1, 98: 1, 99: 2}\n"
     ]
    }
   ],
   "source": [
    "my_list_sort = sorted(my_list)\n",
    "n_repeats = {}\n",
    "\n",
    "for item in my_list_sort:\n",
    "    if item in n_repeats:\n",
    "        n_repeats[item] += 1\n",
    "    else:\n",
    "        n_repeats[item] = 1\n",
    "print(n_repeats)"
   ]
  },
  {
   "cell_type": "markdown",
   "id": "ac5d2f31",
   "metadata": {
    "pycharm": {
     "name": "#%% md\n"
    }
   },
   "source": [
    "Очікуваний результат (три крапки - для скорочення, у вас буде виведений повний набір унікальних елементів): \n",
    "```\n",
    "{2: 1, 3: 1, 5: 1, 7: 1, 8: 2, 9: 1, 10: 3, 11: 3, 12: 2, 13: 2, 14: 1, 15: 1, 16: 2, 17: 3, 19: 1, 20: 3, 21: 1, 23: 1, 25: 1, 27: 1, 28: 2, 29: 4, 31: 1, 33: 1, 35: 1, 36: 2, 37: 1, 38: 1, 40: 1, 42: 3, 44: 4, 45: 1, 46: 2, 47: 2, 49: 1, 51: 3, 52: 1, 54: 1, 56: 1, 57: 3, 60: 1, 61: 1, 62: 2, 63: 1, 65: 2, 66: 1, 70: 1, 71: 1, 73: 2, 75: 2, 76: 2, 78: 1, 79: 2, 80: 2, 81: 1, 82: 1, 83: 1, 86: 1, 94: 1, 95: 2, 97: 1, 98: 1, 99: 2}\n",
    "```"
   ]
  },
  {
   "cell_type": "markdown",
   "id": "6318356c",
   "metadata": {
    "pycharm": {
     "name": "#%% md\n"
    }
   },
   "source": [
    "27.Знайдіть три найменші **унікальні** елементи в списку `my_list`. Збережіть знайдені елементи в змінну `least_3_my_list`. Виведіть значення змінної `least_3_my_list` на екран."
   ]
  },
  {
   "cell_type": "code",
   "execution_count": 28,
   "id": "2631dec1",
   "metadata": {
    "ExecuteTime": {
     "end_time": "2023-06-04T12:02:58.974915Z",
     "start_time": "2023-06-04T12:02:58.963977Z"
    },
    "pycharm": {
     "name": "#%%\n"
    }
   },
   "outputs": [
    {
     "data": {
      "text/plain": [
       "[2, 3, 5]"
      ]
     },
     "execution_count": 28,
     "metadata": {},
     "output_type": "execute_result"
    }
   ],
   "source": [
    "unique_el = set(my_list)\n",
    "unique_el = sorted(unique_el)\n",
    "least_3_my_list = unique_el[:3]\n",
    "least_3_my_list"
   ]
  },
  {
   "cell_type": "markdown",
   "id": "e34f5855",
   "metadata": {
    "pycharm": {
     "name": "#%% md\n"
    }
   },
   "source": [
    "Очікувана відповідь: [2, 3, 5]\n"
   ]
  },
  {
   "cell_type": "markdown",
   "id": "3db5aaff",
   "metadata": {
    "pycharm": {
     "name": "#%% md\n"
    }
   },
   "source": [
    "# Ураа!! Ви завершили перше домашнє завдання!!!  \n",
    "Аби здати ДЗ - залийте ноутбук у гітхаб репозиторій, який ви створили у перші дні навчання на курсі, та додайте посилання на файл у відповідному завданні в Eduflow.\n",
    "Так тримати! 🚀🚀🚀"
   ]
  },
  {
   "cell_type": "code",
   "execution_count": null,
   "id": "54212a80",
   "metadata": {},
   "outputs": [],
   "source": []
  }
 ],
 "metadata": {
  "kernelspec": {
   "display_name": "Python 3 (ipykernel)",
   "language": "python",
   "name": "python3"
  },
  "language_info": {
   "codemirror_mode": {
    "name": "ipython",
    "version": 3
   },
   "file_extension": ".py",
   "mimetype": "text/x-python",
   "name": "python",
   "nbconvert_exporter": "python",
   "pygments_lexer": "ipython3",
   "version": "3.10.9"
  },
  "toc": {
   "base_numbering": 1,
   "nav_menu": {},
   "number_sections": true,
   "sideBar": true,
   "skip_h1_title": false,
   "title_cell": "Table of Contents",
   "title_sidebar": "Contents",
   "toc_cell": false,
   "toc_position": {},
   "toc_section_display": true,
   "toc_window_display": false
  }
 },
 "nbformat": 4,
 "nbformat_minor": 5
}
